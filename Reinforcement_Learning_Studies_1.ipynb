{
  "nbformat": 4,
  "nbformat_minor": 0,
  "metadata": {
    "colab": {
      "provenance": [],
      "authorship_tag": "ABX9TyMZXcq7Ddh2iy+DRqdJO6P3",
      "include_colab_link": true
    },
    "kernelspec": {
      "name": "python3",
      "display_name": "Python 3"
    },
    "language_info": {
      "name": "python"
    }
  },
  "cells": [
    {
      "cell_type": "markdown",
      "metadata": {
        "id": "view-in-github",
        "colab_type": "text"
      },
      "source": [
        "<a href=\"https://colab.research.google.com/github/samuelacquatey/reinforcement-learning-studies/blob/main/Reinforcement_Learning_Studies_1.ipynb\" target=\"_parent\"><img src=\"https://colab.research.google.com/assets/colab-badge.svg\" alt=\"Open In Colab\"/></a>"
      ]
    },
    {
      "cell_type": "code",
      "source": [
        "!pip install gymnasium\n",
        "!pip install keras-rl2"
      ],
      "metadata": {
        "id": "thP_-oBtzDaP"
      },
      "execution_count": null,
      "outputs": []
    },
    {
      "cell_type": "code",
      "execution_count": 5,
      "metadata": {
        "id": "ZjBVGcHZym1Z"
      },
      "outputs": [],
      "source": [
        "import gymnasium as gym"
      ]
    },
    {
      "cell_type": "code",
      "source": [
        "env = gym.make(\"CartPole-v1\", render_mode=\"human\")"
      ],
      "metadata": {
        "id": "oIi0DZqHzAD1"
      },
      "execution_count": 6,
      "outputs": []
    },
    {
      "cell_type": "code",
      "source": [
        "env.reset()"
      ],
      "metadata": {
        "colab": {
          "base_uri": "https://localhost:8080/"
        },
        "id": "ZOwdnUzczef-",
        "outputId": "0a182439-6ba7-4410-a83c-22ef78ccc686"
      },
      "execution_count": 7,
      "outputs": [
        {
          "output_type": "execute_result",
          "data": {
            "text/plain": [
              "(array([ 0.03576416, -0.03682953, -0.00280773, -0.02921635], dtype=float32),\n",
              " {})"
            ]
          },
          "metadata": {},
          "execution_count": 7
        }
      ]
    },
    {
      "cell_type": "code",
      "source": [
        "env.step(0)"
      ],
      "metadata": {
        "colab": {
          "base_uri": "https://localhost:8080/"
        },
        "id": "l7dv4cLRzhjt",
        "outputId": "a6a3ed08-6cb7-41a5-8f0a-99de34a73ded"
      },
      "execution_count": 8,
      "outputs": [
        {
          "output_type": "execute_result",
          "data": {
            "text/plain": [
              "(array([ 0.03502757, -0.23191111, -0.00339206,  0.26257938], dtype=float32),\n",
              " 1.0,\n",
              " False,\n",
              " False,\n",
              " {})"
            ]
          },
          "metadata": {},
          "execution_count": 8
        }
      ]
    },
    {
      "cell_type": "code",
      "source": [
        "def basic_policy(obs):\n",
        "    angle = obs[2]\n",
        "    return 0 if angle < 0 else 1\n",
        "\n",
        "env = gym.make(\"CartPole-v1\",render_mode=\"human\")\n",
        "totals = []\n",
        "with env:\n",
        "    for episode in range(5):\n",
        "        print(f\"Game:{episode}\")\n",
        "        episode_rewards = 0\n",
        "        obs = env.reset()[0]\n",
        "        for step in range(200):\n",
        "            #print(f\"Step Num: {step}\")\n",
        "            action = basic_policy(obs)\n",
        "            obs, reward, done, state, info = env.step(action)\n",
        "            env.render()\n",
        "            episode_rewards += reward\n",
        "            if done:\n",
        "                break\n",
        "        totals.append(episode_rewards)\n",
        "        print(f\"Steps: {step}\")\n",
        "    env.close()"
      ],
      "metadata": {
        "colab": {
          "base_uri": "https://localhost:8080/"
        },
        "id": "pB58fR1Tzw81",
        "outputId": "b81bf589-eda2-4cea-b6a6-51fd0fca936a"
      },
      "execution_count": 12,
      "outputs": [
        {
          "output_type": "stream",
          "name": "stdout",
          "text": [
            "Game:0\n",
            "Steps: 30\n",
            "Game:1\n",
            "Steps: 37\n",
            "Game:2\n",
            "Steps: 38\n",
            "Game:3\n",
            "Steps: 34\n",
            "Game:4\n",
            "Steps: 48\n"
          ]
        }
      ]
    },
    {
      "cell_type": "code",
      "source": [
        "import numpy as np\n",
        "np.mean(totals), np.std(totals), np.min(totals), np.max(totals)"
      ],
      "metadata": {
        "colab": {
          "base_uri": "https://localhost:8080/"
        },
        "id": "nIKENP1vz9It",
        "outputId": "0ca5a873-9bde-461e-b835-d4f1ddeba947"
      },
      "execution_count": 10,
      "outputs": [
        {
          "output_type": "execute_result",
          "data": {
            "text/plain": [
              "(50.2, 12.812493902437575, 25.0, 59.0)"
            ]
          },
          "metadata": {},
          "execution_count": 10
        }
      ]
    }
  ]
}